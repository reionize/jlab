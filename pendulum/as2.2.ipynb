{
 "cells": [
  {
   "cell_type": "code",
   "execution_count": 1,
   "metadata": {},
   "outputs": [],
   "source": [
    "import numpy as np\n",
    "import matplotlib.pyplot as plt\n",
    "import matplotlib.font_manager\n",
    "from scipy.stats import norm"
   ]
  },
  {
   "cell_type": "code",
   "execution_count": 2,
   "metadata": {},
   "outputs": [
    {
     "name": "stdout",
     "output_type": "stream",
     "text": [
      "[ 9.83    9.06    9.79    9.882   9.807   9.28    9.811   9.26    9.8095\n",
      "  9.68    9.795   9.62    9.779  10.63    9.565   9.857   9.56    9.815\n",
      "  9.8079  9.8     9.76    9.75    9.8608  9.8078  9.685  10.72    9.23\n",
      "  9.933   9.766   9.79    9.7     9.7     9.1     9.7    11.      9.8\n",
      "  9.7    10.3     9.77    9.3    10.5     9.05    9.779   9.821   9.78\n",
      "  9.2    10.     10.1    10.19   12.22   10.176   9.67    9.7     8.68\n",
      "  9.87    7.73    8.19    9.594   9.78   10.56    9.63    9.9     9.73\n",
      "  8.8     9.1   ]\n",
      "9.731707692307692\n",
      "0.6041559658181437\n",
      "65\n",
      "0.07493632487074035\n"
     ]
    }
   ],
   "source": [
    "import pandas as pd\n",
    "df = pd.read_csv('pendulumData.csv')\n",
    "g = df['g (m/s2)'].to_numpy()\n",
    "g_f = g[~ np.isnan(g)]\n",
    "g_f = np.delete(g_f, 4)\n",
    "print(g_f)\n",
    "mean = np.mean(g_f)\n",
    "print(mean)\n",
    "samplestd = np.std(g_f, ddof=1)\n",
    "print(samplestd)\n",
    "N = len(g_f)\n",
    "print(N)\n",
    "meanstd = samplestd/(N**0.5)\n",
    "print(meanstd)"
   ]
  },
  {
   "cell_type": "code",
   "execution_count": 8,
   "metadata": {},
   "outputs": [
    {
     "data": {
      "text/plain": [
       "<Figure size 432x288 with 0 Axes>"
      ]
     },
     "metadata": {},
     "output_type": "display_data"
    },
    {
     "data": {
      "image/png": "[encoded data removed]",
      "text/plain": [
       "<Figure size 320x320 with 1 Axes>"
      ]
     },
     "metadata": {
      "needs_background": "light"
     },
     "output_type": "display_data"
    }
   ],
   "source": [
    "plt.clf()\n",
    "plt.rcParams.update({'font.size': 14})\n",
    "plt.rcParams.update({'font.family': 'cmr10', 'mathtext.fontset': 'cm'})\n",
    "fig, ax = plt.subplots()\n",
    "ax.spines['right'].set_visible(False)\n",
    "ax.spines['top'].set_visible(False)\n",
    "plt.hist(g_f, bins=[7.4+0.2*i for i in range(27)], edgecolor='black', linewidth=1, color='white', histtype='step')\n",
    "x = [7.6+0.05*i for i in range(100)]\n",
    "plt.plot(x, N*0.2*norm.pdf(x, loc=mean, scale=samplestd), linestyle='dashed', linewidth=1.5, color='red')\n",
    "plt.xlabel(r'$g \\, (\\mathrm{m}/\\mathrm{s}^2)$')\n",
    "plt.ylabel('Count')\n",
    "plt.xlim([7.4, 12.6])\n",
    "#plt.title('Measured value of acceleration due to gravity')\n",
    "plt.text(11, 21, r'$\\mu = 9.73$', horizontalalignment='left')\n",
    "plt.text(11, 18, r'$\\sigma = 0.60$', horizontalalignment='left')\n",
    "plt.text(11, 15, r'$\\sigma_\\mu = 0.07$', horizontalalignment='left')\n",
    "plt.text(11, 12, r'$N = 65$', horizontalalignment='left')\n",
    "fig.set_size_inches(3.2, 3.2)\n",
    "fig.set_dpi(100)\n",
    "plt.savefig('hist.png', bbox_inches='tight', pad_inches=0)"
   ]
  },
  {
   "cell_type": "code",
   "execution_count": null,
   "metadata": {},
   "outputs": [],
   "source": []
  }
 ],
 "metadata": {
  "kernelspec": {
   "display_name": "Python 3",
   "language": "python",
   "name": "python3"
  },
  "language_info": {
   "codemirror_mode": {
    "name": "ipython",
    "version": 3
   },
   "file_extension": ".py",
   "mimetype": "text/x-python",
   "name": "python",
   "nbconvert_exporter": "python",
   "pygments_lexer": "ipython3",
   "version": "3.7.4"
  }
 },
 "nbformat": 4,
 "nbformat_minor": 2
}
