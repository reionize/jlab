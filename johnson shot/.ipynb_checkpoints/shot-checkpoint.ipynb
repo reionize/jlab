{
 "cells": [
  {
   "cell_type": "markdown",
   "metadata": {},
   "source": [
    "# Shot noise analysis and plots\n",
    "\n",
    "Generate gain plots, determine shot noise of photodiode, error analysis"
   ]
  },
  {
   "cell_type": "code",
   "execution_count": 1,
   "metadata": {},
   "outputs": [],
   "source": [
    "import matplotlib.pyplot as plt\n",
    "import math\n",
    "import numpy as np"
   ]
  },
  {
   "cell_type": "code",
   "execution_count": 2,
   "metadata": {},
   "outputs": [],
   "source": [
    "def G(f, g, df=0.01):\n",
    "    \"\"\"\n",
    "    Computes G using trapezoidal rule and returns sum and error\n",
    "    f is a list with frequency domain given in kHz\n",
    "    g is a list with corresponding gain as function of frequency\n",
    "    df is optional but should be finer than precision of f\n",
    "    \"\"\"\n",
    "    # TODO add error analysis\n",
    "    S = 0\n",
    "    if len(f) != len(g):\n",
    "        print(\"Dimensions don't match!\")\n",
    "        return -1, -1\n",
    "    for i in range(len(f)-1):\n",
    "        n = int(round((f[i+1]-f[i])/df, 2))\n",
    "        fp = [f[i] + j*df for j in range(n+1)]\n",
    "        for j in range(n):\n",
    "            S += 1.0e3 * df * (g[i] + (g[i+1]-g[i])*(j+0.5)*df/(f[i+1]-f[i]))**2 \n",
    "            # print(S)\n",
    "        S += 1.0e3 * (f[i+1] - fp[-1]) * (g[i] + (g[i+1]-g[i])*(f[i+1]/2 + fp[-1]/2 - f[i])/(f[i+1]-f[i]))**2 \n",
    "        # print(S)\n",
    "    return S"
   ]
  },
  {
   "cell_type": "code",
   "execution_count": 3,
   "metadata": {},
   "outputs": [],
   "source": [
    "def plotgp(f, g, df=0.1):\n",
    "    \"\"\"\n",
    "    Formats gain data to visualize G integral\n",
    "    f is a list with frequency domain given in kHz\n",
    "    g is a list with corresponding gain as function of frequency\n",
    "    df is optional but should be finer than precision of f\n",
    "    \"\"\"\n",
    "    # TODO add error analysis\n",
    "    x = []\n",
    "    y = []\n",
    "    if len(f) != len(g):\n",
    "        print(\"Dimensions don't match!\")\n",
    "        return -1, -1\n",
    "    for i in range(len(f)-1):\n",
    "        n = int(round((f[i+1]-f[i])/df, 2))\n",
    "        fp = [f[i] + j*df for j in range(n+1)]\n",
    "        for j in range(n):\n",
    "            xp = f[i] + j*df\n",
    "            # nxp = xp + j*df\n",
    "            x.append(xp)\n",
    "            y.append((g[i] + (g[i+1]-g[i])*j*df/(f[i+1]-f[i]))**2)\n",
    "        # print((1 + 1.0e6 * (2*np.pi*R*C*(f[i] + f[i+1])/2)**2))\n",
    "        # print(y)\n",
    "    return x, y"
   ]
  },
  {
   "cell_type": "code",
   "execution_count": 10,
   "metadata": {},
   "outputs": [
    {
     "data": {
      "text/plain": [
       "<Figure size 432x288 with 0 Axes>"
      ]
     },
     "metadata": {},
     "output_type": "display_data"
    },
    {
     "data": {
      "image/png": "[encoded data removed]",
      "text/plain": [
       "<Figure size 720x360 with 1 Axes>"
      ]
     },
     "metadata": {
      "needs_background": "light"
     },
     "output_type": "display_data"
    },
    {
     "name": "stdout",
     "output_type": "stream",
     "text": [
      "46996549945.03384\n"
     ]
    },
    {
     "data": {
      "text/plain": [
       "<Figure size 432x288 with 0 Axes>"
      ]
     },
     "metadata": {},
     "output_type": "display_data"
    },
    {
     "data": {
      "image/png": "[encoded data removed]",
      "text/plain": [
       "<Figure size 360x216 with 1 Axes>"
      ]
     },
     "metadata": {
      "needs_background": "light"
     },
     "output_type": "display_data"
    }
   ],
   "source": [
    "# calibration data for g(f)\n",
    "x = \"\"\"| 0.5 |\n",
    "| 0.7 |\n",
    "| 1   |\n",
    "| 2   |\n",
    "| 5   |\n",
    "| 20  |\n",
    "| 30  |\n",
    "| 40  |\n",
    "| 50  |\n",
    "| 55  |\n",
    "| 60  |\n",
    "| 65  |\n",
    "| 70  |\n",
    "| 75  |\n",
    "| 80  |\n",
    "| 90  |\n",
    "| 100 |\n",
    "\"\"\".strip().replace(' ', '').replace('|', '').split('\\n')\n",
    "y = \"\"\"| 79.0558769 |\n",
    "| 191.016904 |\n",
    "| 608.448816 |\n",
    "| 945.838888 |\n",
    "| 967.482785 |\n",
    "| 972.805643 |\n",
    "| 961.756038 |\n",
    "| 893.488805 |\n",
    "| 687.179996 |\n",
    "| 551.35054  |\n",
    "| 430.196061 |\n",
    "| 334.48653  |\n",
    "| 262.564168 |\n",
    "| 211.50225  |\n",
    "| 176.490471 |\n",
    "| 139.122428 |\n",
    "| 127.404771 |\n",
    "\"\"\".strip().replace(' ', '').replace('|', '').split('\\n')\n",
    "err = \"\"\"| 0.09702082 |\n",
    "| 0.16925283 |\n",
    "| 0.27514216 |\n",
    "| 0.97261072 |\n",
    "| 0.68859985 |\n",
    "| 0.61208853 |\n",
    "| 0.46747437 |\n",
    "| 0.53171762 |\n",
    "| 0.8651706  |\n",
    "| 0.5362433  |\n",
    "| 0.29126548 |\n",
    "| 0.36441853 |\n",
    "| 0.07666113 |\n",
    "| 0.18293126 |\n",
    "| 0.18569941 |\n",
    "| 0.10046278 |\n",
    "| 0.73681883 |\n",
    "\n",
    "\"\"\".strip().replace(' ', '').replace('|', '').split('\\n')\n",
    "x = list(map(float, x))\n",
    "y = list(map(float, y))\n",
    "err = list(map(float, err))\n",
    "R = 10\n",
    "V = (2.93**2 - 0.83**2)**0.5\n",
    "C = 80\n",
    "\n",
    "plt.clf()\n",
    "plt.figure(figsize=(10, 5))\n",
    "plt.rcParams.update({'font.size': 14})\n",
    "#plt.rcParams.update({'font.family': 'cmr10', 'mathtext.fontset': 'cm'})\n",
    "plt.rcParams.update({'font.family': 'cmss10', 'mathtext.fontset': 'stixsans'})\n",
    "plt.ylabel('$g(f)$')\n",
    "plt.xlabel('Frequency (kHz)')\n",
    "plt.grid(b=True)\n",
    "plt.plot(x, y, 'k')\n",
    "# plt.errorbar(x, y, yerr=err, color='r', fmt='.', ecolor='r', capsize=3)\n",
    "plt.show()\n",
    "\n",
    "plt.clf()\n",
    "plt.figure(figsize=(10, 5))\n",
    "plt.rcParams.update({'font.size': 14})\n",
    "plt.rcParams.update({'font.family': 'cmr10', 'mathtext.fontset': 'cm'})\n",
    "# plt.rcParams.update({'font.family': 'cmss10', 'mathtext.fontset': 'stixsans'})\n",
    "plt.ylabel('$g^2(f)$')\n",
    "plt.xlabel('Frequency (kHz)')\n",
    "plt.ticklabel_format(axis='y',style='sci', scilimits=(0,0))\n",
    "plt.grid(b=True)\n",
    "plt.plot(x, [g**2 for g in y], 'k')\n",
    "gpx, gpy = plotgp(x, y, df=0.1)\n",
    "fig = plt.gcf()\n",
    "fig.set_size_inches(5, 3)\n",
    "# plt.xlim(1, 6)\n",
    "# plt.plot(gpx, gpy, 'r')\n",
    "# plt.errorbar(x, [g**2 for g in y], yerr=[2*e for e in err], color='r', fmt='.', ecolor='r', capsize=3)\n",
    "plt.savefig('plots/shotgain_r.pdf',bbox_inches='tight',pad_inches=0.25)\n",
    "\n",
    "# # gross estimate for trapezoidal rule\n",
    "# S = 0\n",
    "# for i in range(len(x)-1):\n",
    "#     S += ((y[i] + y[i+1])/2)**2 * (x[i+1]-x[i])\n",
    "#     print(round(((y[i] + y[i+1])/2)**2, 1), '\\t', round(x[i+1]-x[i],2), '\\t', round(S, 2))\n",
    "Gr = G(x, y, df=0.001)\n",
    "print(Gr)"
   ]
  },
  {
   "cell_type": "code",
   "execution_count": null,
   "metadata": {},
   "outputs": [],
   "source": []
  }
 ],
 "metadata": {
  "kernelspec": {
   "display_name": "Python 3",
   "language": "python",
   "name": "python3"
  },
  "language_info": {
   "codemirror_mode": {
    "name": "ipython",
    "version": 3
   },
   "file_extension": ".py",
   "mimetype": "text/x-python",
   "name": "python",
   "nbconvert_exporter": "python",
   "pygments_lexer": "ipython3",
   "version": "3.7.4"
  }
 },
 "nbformat": 4,
 "nbformat_minor": 2
}
